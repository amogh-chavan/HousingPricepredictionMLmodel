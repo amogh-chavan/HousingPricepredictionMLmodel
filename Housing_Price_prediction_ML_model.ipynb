{
  "nbformat": 4,
  "nbformat_minor": 0,
  "metadata": {
    "colab": {
      "name": "Housing Price prediction ML model",
      "provenance": [],
      "authorship_tag": "ABX9TyMqAIWyY+hTk+Co4fGamb/P",
      "include_colab_link": true
    },
    "kernelspec": {
      "name": "python3",
      "display_name": "Python 3"
    }
  },
  "cells": [
    {
      "cell_type": "markdown",
      "metadata": {
        "id": "view-in-github",
        "colab_type": "text"
      },
      "source": [
        "<a href=\"https://colab.research.google.com/github/amogh-chavan/HousingPricepredictionMLmodel/blob/main/Housing_Price_prediction_ML_model.ipynb\" target=\"_parent\"><img src=\"https://colab.research.google.com/assets/colab-badge.svg\" alt=\"Open In Colab\"/></a>"
      ]
    },
    {
      "cell_type": "markdown",
      "metadata": {
        "id": "3SYnERl_-HPs"
      },
      "source": [
        "**liner regression is used to compare x and y .\n",
        "it fines a middle slope of x and y.\n",
        "\n",
        "following is the example of house price according to square feet.\n",
        "the distance between the data point and the sploe is error\n",
        "\n",
        "y=beta0 + beta1 * xi + error.\n",
        "\n",
        "beta0= y intercept\n",
        "\n",
        "beta1 = slope coefficent\n",
        "\n",
        "xi= independent variable\n",
        "\n",
        "a model can be \n",
        "\n",
        "1)underfit(not good)\n",
        "\n",
        "2)good fit(best)\n",
        "\n",
        "3)over fit(not good for unknown data)\n",
        "\n",
        "if loss is too low then over fit\n",
        "if loss to high then underfit\n",
        "**\n"
      ]
    },
    {
      "cell_type": "code",
      "metadata": {
        "id": "-YxyUSBv_lIs"
      },
      "source": [
        "import keras #ML Library\n",
        "import numpy as np #Mathematics Library\n",
        "import pandas as pd #Data-handling Library\n",
        "import matplotlib.pyplot as plt #Used to graph our results\n",
        "#use to read data\n",
        "import tensorflow as tf\n",
        "\n",
        "import matplotlib.pyplot as plt  \n",
        "#use to plot data in graph\n",
        "from tensorflow.python.keras.layers import Dense\n",
        "from tensorflow.python.keras import Sequential\n",
        "#csv= comma seprated file(excel sheet)\n",
        "\n"
      ],
      "execution_count": null,
      "outputs": []
    },
    {
      "cell_type": "code",
      "metadata": {
        "id": "pESEwPPLCE5V"
      },
      "source": [
        "df=pd.read_csv(\"IowaHousingPrices.csv\")"
      ],
      "execution_count": null,
      "outputs": []
    },
    {
      "cell_type": "code",
      "metadata": {
        "id": "s0qlXYbACUl6"
      },
      "source": [
        "\n",
        "squarefeet = df[['SquareFeet']].values #x value\n",
        "saleprice = df[['SalePrice']].values #y value\n"
      ],
      "execution_count": null,
      "outputs": []
    },
    {
      "cell_type": "code",
      "metadata": {
        "id": "tn8JUZWoCzSd",
        "colab": {
          "base_uri": "https://localhost:8080/",
          "height": 1000
        },
        "outputId": "5b683e47-f75f-4411-93ae-b7fafe4db52e"
      },
      "source": [
        "\n",
        "model = tf.keras.Sequential()\n",
        "model.add(Dense(1, input_shape=(1,)))\n",
        "#we need to create a sequencial model \n",
        "model.compile(tf.keras.optimizers.Adam(lr=1), 'mean_squared_error')\n",
        "\n",
        "model.fit(squarefeet,saleprice, epochs=30, batch_size=10)\n",
        "#dense(neurons needed,)\n",
        "\n",
        "#any error is going to be squared and adam optimizer is going to minimise the error\n",
        "#lr=learning late \n",
        "#adam is a best compiler\n",
        "#there are also other compiler check on google\n",
        "\n",
        "#epoch=how many times are you going to run over same data to optimise to minimum error\n",
        "\n",
        "#it will run for 30 times\n",
        "#if epochis too high then the model will crash\n"
      ],
      "execution_count": null,
      "outputs": [
        {
          "output_type": "stream",
          "text": [
            "Epoch 1/30\n",
            "146/146 [==============================] - 0s 1ms/step - loss: 14725132288.0000\n",
            "Epoch 2/30\n",
            "146/146 [==============================] - 0s 1ms/step - loss: 3328043520.0000\n",
            "Epoch 3/30\n",
            "146/146 [==============================] - 0s 1ms/step - loss: 3193623296.0000\n",
            "Epoch 4/30\n",
            "146/146 [==============================] - 0s 953us/step - loss: 3183863296.0000\n",
            "Epoch 5/30\n",
            "146/146 [==============================] - 0s 1ms/step - loss: 3194151168.0000\n",
            "Epoch 6/30\n",
            "146/146 [==============================] - 0s 995us/step - loss: 3191898624.0000\n",
            "Epoch 7/30\n",
            "146/146 [==============================] - 0s 1ms/step - loss: 3195997440.0000\n",
            "Epoch 8/30\n",
            "146/146 [==============================] - 0s 996us/step - loss: 3191802624.0000\n",
            "Epoch 9/30\n",
            "146/146 [==============================] - 0s 1ms/step - loss: 3200391936.0000\n",
            "Epoch 10/30\n",
            "146/146 [==============================] - 0s 1ms/step - loss: 3200705792.0000\n",
            "Epoch 11/30\n",
            "146/146 [==============================] - 0s 1ms/step - loss: 3206650880.0000\n",
            "Epoch 12/30\n",
            "146/146 [==============================] - 0s 1ms/step - loss: 3194280704.0000\n",
            "Epoch 13/30\n",
            "146/146 [==============================] - 0s 1ms/step - loss: 3199088896.0000\n",
            "Epoch 14/30\n",
            "146/146 [==============================] - 0s 1ms/step - loss: 3193500160.0000\n",
            "Epoch 15/30\n",
            "146/146 [==============================] - 0s 978us/step - loss: 3203165440.0000\n",
            "Epoch 16/30\n",
            "146/146 [==============================] - 0s 990us/step - loss: 3182894336.0000\n",
            "Epoch 17/30\n",
            "146/146 [==============================] - 0s 953us/step - loss: 3217087488.0000\n",
            "Epoch 18/30\n",
            "146/146 [==============================] - 0s 1ms/step - loss: 3185613824.0000\n",
            "Epoch 19/30\n",
            "146/146 [==============================] - 0s 1ms/step - loss: 3225140736.0000\n",
            "Epoch 20/30\n",
            "146/146 [==============================] - 0s 1ms/step - loss: 3193123584.0000\n",
            "Epoch 21/30\n",
            "146/146 [==============================] - 0s 955us/step - loss: 3205465600.0000\n",
            "Epoch 22/30\n",
            "146/146 [==============================] - 0s 975us/step - loss: 3222501888.0000\n",
            "Epoch 23/30\n",
            "146/146 [==============================] - 0s 951us/step - loss: 3185722880.0000\n",
            "Epoch 24/30\n",
            "146/146 [==============================] - 0s 1ms/step - loss: 3203612928.0000\n",
            "Epoch 25/30\n",
            "146/146 [==============================] - 0s 959us/step - loss: 3195751168.0000\n",
            "Epoch 26/30\n",
            "146/146 [==============================] - 0s 1ms/step - loss: 3194683904.0000\n",
            "Epoch 27/30\n",
            "146/146 [==============================] - 0s 997us/step - loss: 3192826368.0000\n",
            "Epoch 28/30\n",
            "146/146 [==============================] - 0s 1ms/step - loss: 3210233344.0000\n",
            "Epoch 29/30\n",
            "146/146 [==============================] - 0s 1ms/step - loss: 3214115840.0000\n",
            "Epoch 30/30\n",
            "146/146 [==============================] - 0s 1ms/step - loss: 3205850624.0000\n"
          ],
          "name": "stdout"
        },
        {
          "output_type": "execute_result",
          "data": {
            "text/plain": [
              "<tensorflow.python.keras.callbacks.History at 0x7ff07d4b3390>"
            ]
          },
          "metadata": {
            "tags": []
          },
          "execution_count": 37
        }
      ]
    },
    {
      "cell_type": "code",
      "metadata": {
        "id": "czz0u--YKgqT",
        "colab": {
          "base_uri": "https://localhost:8080/",
          "height": 312
        },
        "outputId": "839a01f3-9ab2-43bb-d28f-0c85a736f98e"
      },
      "source": [
        "df.plot(kind='scatter',\n",
        "       x='SquareFeet',\n",
        "       y='SalePrice', title='Housing Prices and Square Footage of Iowa Homes')\n",
        "\n",
        "\n",
        "y_pred = model.predict(squarefeet) #The predicted housing price based on square feet\n",
        "\n",
        "#Plot the linear regression line\n",
        "plt.plot(squarefeet, y_pred, color='red')"
      ],
      "execution_count": null,
      "outputs": [
        {
          "output_type": "execute_result",
          "data": {
            "text/plain": [
              "[<matplotlib.lines.Line2D at 0x7ff0780650b8>]"
            ]
          },
          "metadata": {
            "tags": []
          },
          "execution_count": 40
        },
        {
          "output_type": "display_data",
          "data": {
            "image/png": "[encoded data removed]",
            "text/plain": [
              "<Figure size 432x288 with 1 Axes>"
            ]
          },
          "metadata": {
            "tags": []
          }
        }
      ]
    },
    {
      "cell_type": "code",
      "metadata": {
        "id": "0kSAG_3vN3Y1",
        "colab": {
          "base_uri": "https://localhost:8080/",
          "height": 50
        },
        "outputId": "e8e0e4fc-e668-4eb0-d7db-055f515e9da3"
      },
      "source": [
        "newSF = float(input(\"enter sq feet to find price of the house: \"))\n",
        "print(model.predict([newSF]))"
      ],
      "execution_count": null,
      "outputs": [
        {
          "output_type": "stream",
          "text": [
            "enter sq feet to find price of the house: 99\n",
            "[[12191.485]]\n"
          ],
          "name": "stdout"
        }
      ]
    }
  ]
}